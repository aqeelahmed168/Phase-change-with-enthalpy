{
 "cells": [
  {
   "cell_type": "code",
   "execution_count": 21,
   "metadata": {},
   "outputs": [],
   "source": [
    "import fenics as fe"
   ]
  },
  {
   "cell_type": "code",
   "execution_count": 22,
   "metadata": {},
   "outputs": [],
   "source": [
    "import matplotlib.pyplot as plt"
   ]
  },
  {
   "cell_type": "code",
   "execution_count": 23,
   "metadata": {},
   "outputs": [],
   "source": [
    "import numpy as np"
   ]
  },
  {
   "cell_type": "code",
   "execution_count": 24,
   "metadata": {},
   "outputs": [],
   "source": [
    "import fenics as fe"
   ]
  },
  {
   "cell_type": "code",
   "execution_count": 25,
   "metadata": {},
   "outputs": [],
   "source": [
    "def semiphasefieldwithenthalpy(N):\n",
    "    phi=[]\n",
    "    h=np.empty(N)\n",
    "    phi=np.linspace(0,1,30)\n",
    "    phi[0:N/3]=0\n",
    "    h[0:N/3]=np.linspace(-N/3,0,N/3)\n",
    "    phi[(2*N)/3:N]=1\n",
    "    h[(2*N)/3:N]=np.linspace(N/3,(2*N)/3,N/3)\n",
    "    phi[N/3:(2*N)/3]=np.linspace(0.01,0.99,N/3)\n",
    "    h[N/3:(2*N)/3]=np.linspace(0,N/3,N/3)\n",
    "    plt.plot(h,phi)    \n",
    "    plt.ylim([0,2])\n",
    "    plt.show()    \n",
    "    h1=h\n",
    "    return [phi,h1]"
   ]
  },
  {
   "cell_type": "code",
   "execution_count": 26,
   "metadata": {},
   "outputs": [
    {
     "data": {
      "image/png": "[encoded data removed]",
      "text/plain": [
       "<matplotlib.figure.Figure at 0x7f185a5f3ed0>"
      ]
     },
     "metadata": {},
     "output_type": "display_data"
    },
    {
     "data": {
      "text/plain": [
       "[array([ 0.        ,  0.        ,  0.        ,  0.        ,  0.        ,\n",
       "         0.        ,  0.        ,  0.        ,  0.        ,  0.        ,\n",
       "         0.01      ,  0.11888889,  0.22777778,  0.33666667,  0.44555556,\n",
       "         0.55444444,  0.66333333,  0.77222222,  0.88111111,  0.99      ,\n",
       "         1.        ,  1.        ,  1.        ,  1.        ,  1.        ,\n",
       "         1.        ,  1.        ,  1.        ,  1.        ,  1.        ]),\n",
       " array([-10.        ,  -8.88888889,  -7.77777778,  -6.66666667,\n",
       "         -5.55555556,  -4.44444444,  -3.33333333,  -2.22222222,\n",
       "         -1.11111111,   0.        ,   0.        ,   1.11111111,\n",
       "          2.22222222,   3.33333333,   4.44444444,   5.55555556,\n",
       "          6.66666667,   7.77777778,   8.88888889,  10.        ,\n",
       "         10.        ,  11.11111111,  12.22222222,  13.33333333,\n",
       "         14.44444444,  15.55555556,  16.66666667,  17.77777778,\n",
       "         18.88888889,  20.        ])]"
      ]
     },
     "execution_count": 26,
     "metadata": {},
     "output_type": "execute_result"
    }
   ],
   "source": [
    "semiphasefieldwithenthalpy(30)"
   ]
  },
  {
   "cell_type": "markdown",
   "metadata": {},
   "source": [
    "# Now the Temperature with respect  to enthalpy"
   ]
  },
  {
   "cell_type": "code",
   "execution_count": 27,
   "metadata": {},
   "outputs": [],
   "source": [
    "def Temperaturewithenthalpy1(N):\n",
    "    phi,h=semiphasefieldwithenthalpy(N)\n",
    "    L=6\n",
    "    c=1\n",
    "    T={}\n",
    "    T=np.linspace(0,200,N)\n",
    "    T[0:N/3]=np.linspace(0,99,N/3)\n",
    "    T[(2*N)/3:N]=np.linspace(101,200,N/3)\n",
    "    T[(N/3):(2*N)/3]=100\n",
    "    plt.plot(h,T)    \n",
    "    #plt.ylim([0,2])\n",
    "    plt.show()    \n",
    "    return T\n",
    "    T=np.linspace(0,200,N)\n",
    "    T[0:N/3]=np.linspace(0,99,N/3)\n",
    "    T[(2*N)/3:N]=np.linspace(101,200,N/3)\n",
    "    T[(N/3):(2*N)/3]=100\n",
    "    plt.plot(h,T)    \n",
    "    #plt.ylim([0,2])\n",
    "    plt.show()    \n",
    "    return T"
   ]
  },
  {
   "cell_type": "code",
   "execution_count": 28,
   "metadata": {},
   "outputs": [],
   "source": [
    "def Temperaturewithenthalpy2(N):\n",
    "    phi,h=semiphasefieldwithenthalpy(N)\n",
    "    L=10;\n",
    "    c=1;\n",
    "    T={}\n",
    "    T=(h-(phi*L))/c\n",
    "    plt.plot(h,T)    \n",
    "    #plt.ylim([0,2])\n",
    "    plt.show()    \n",
    "    return T   "
   ]
  },
  {
   "cell_type": "code",
   "execution_count": 29,
   "metadata": {},
   "outputs": [],
   "source": [
    "def diffoftemperaturewrtenthalpy(N):\n",
    "    T=Temperaturewithenthalpy2(N)\n",
    "    phi,h=semiphasefieldwithenthalpy(N)\n",
    "    hnew=np.max(h)\n",
    "    return (T[1]-T[0])/hnew"
   ]
  },
  {
   "cell_type": "code",
   "execution_count": 30,
   "metadata": {},
   "outputs": [
    {
     "data": {
      "image/png": "[encoded data removed]",
      "text/plain": [
       "<matplotlib.figure.Figure at 0x7f181bdf8190>"
      ]
     },
     "metadata": {},
     "output_type": "display_data"
    },
    {
     "data": {
      "image/png": "[encoded data removed]",
      "text/plain": [
       "<matplotlib.figure.Figure at 0x7f181beefb90>"
      ]
     },
     "metadata": {},
     "output_type": "display_data"
    },
    {
     "data": {
      "image/png": "[encoded data removed]",
      "text/plain": [
       "<matplotlib.figure.Figure at 0x7f181c1b3190>"
      ]
     },
     "metadata": {},
     "output_type": "display_data"
    },
    {
     "ename": "TypeError",
     "evalue": "'numpy.ndarray' object is not callable",
     "output_type": "error",
     "traceback": [
      "\u001b[0;31m---------------------------------------------------------------------------\u001b[0m",
      "\u001b[0;31mTypeError\u001b[0m                                 Traceback (most recent call last)",
      "\u001b[0;32m<ipython-input-30-b4454d11213a>\u001b[0m in \u001b[0;36m<module>\u001b[0;34m()\u001b[0m\n\u001b[1;32m     37\u001b[0m \u001b[0mste\u001b[0m\u001b[0;34m=\u001b[0m\u001b[0mfe\u001b[0m\u001b[0;34m.\u001b[0m\u001b[0mConstant\u001b[0m\u001b[0;34m(\u001b[0m\u001b[0;36m0.045\u001b[0m\u001b[0;34m)\u001b[0m\u001b[0;34m\u001b[0m\u001b[0m\n\u001b[1;32m     38\u001b[0m \u001b[0mprandl_number\u001b[0m\u001b[0;34m=\u001b[0m\u001b[0mfe\u001b[0m\u001b[0;34m.\u001b[0m\u001b[0mConstant\u001b[0m\u001b[0;34m(\u001b[0m\u001b[0;36m1\u001b[0m\u001b[0;34m)\u001b[0m\u001b[0;34m\u001b[0m\u001b[0m\n\u001b[0;32m---> 39\u001b[0;31m \u001b[0mdiffh\u001b[0m\u001b[0;34m=\u001b[0m\u001b[0mdiffofenthalpywithtime\u001b[0m\u001b[0;34m(\u001b[0m\u001b[0;36m30\u001b[0m\u001b[0;34m)\u001b[0m\u001b[0;34m\u001b[0m\u001b[0m\n\u001b[0m\u001b[1;32m     40\u001b[0m \u001b[0mrho\u001b[0m\u001b[0;34m=\u001b[0m\u001b[0;36m1\u001b[0m\u001b[0;34m\u001b[0m\u001b[0m\n\u001b[1;32m     41\u001b[0m \u001b[0mK\u001b[0m\u001b[0;34m=\u001b[0m\u001b[0;36m1\u001b[0m\u001b[0;34m\u001b[0m\u001b[0m\n",
      "\u001b[0;32m<ipython-input-30-b4454d11213a>\u001b[0m in \u001b[0;36mdiffofenthalpywithtime\u001b[0;34m(N)\u001b[0m\n\u001b[1;32m     26\u001b[0m     \u001b[0mdt\u001b[0m\u001b[0;34m=\u001b[0m\u001b[0mfe\u001b[0m\u001b[0;34m.\u001b[0m\u001b[0mConstant\u001b[0m\u001b[0;34m(\u001b[0m\u001b[0;36m1.e-2\u001b[0m\u001b[0;34m)\u001b[0m\u001b[0;34m\u001b[0m\u001b[0m\n\u001b[1;32m     27\u001b[0m     \u001b[0mT_t\u001b[0m \u001b[0;34m=\u001b[0m \u001b[0;34m(\u001b[0m\u001b[0mT\u001b[0m \u001b[0;34m-\u001b[0m \u001b[0mT_n\u001b[0m\u001b[0;34m)\u001b[0m\u001b[0;34m/\u001b[0m\u001b[0mdt\u001b[0m\u001b[0;34m\u001b[0m\u001b[0m\n\u001b[0;32m---> 28\u001b[0;31m     \u001b[0mphi_t\u001b[0m \u001b[0;34m=\u001b[0m \u001b[0;34m(\u001b[0m\u001b[0mphi\u001b[0m\u001b[0;34m(\u001b[0m\u001b[0mT\u001b[0m\u001b[0;34m)\u001b[0m \u001b[0;34m-\u001b[0m \u001b[0mphi\u001b[0m\u001b[0;34m(\u001b[0m\u001b[0mT_n\u001b[0m\u001b[0;34m)\u001b[0m\u001b[0;34m)\u001b[0m\u001b[0;34m/\u001b[0m\u001b[0mdt\u001b[0m\u001b[0;34m\u001b[0m\u001b[0m\n\u001b[0m\u001b[1;32m     29\u001b[0m     \u001b[0mc\u001b[0m\u001b[0;34m=\u001b[0m\u001b[0;36m1\u001b[0m\u001b[0;34m\u001b[0m\u001b[0m\n\u001b[1;32m     30\u001b[0m     \u001b[0mL\u001b[0m\u001b[0;34m=\u001b[0m\u001b[0;36m10\u001b[0m\u001b[0;34m\u001b[0m\u001b[0m\n",
      "\u001b[0;31mTypeError\u001b[0m: 'numpy.ndarray' object is not callable"
     ]
    }
   ],
   "source": [
    "Mesh_size=1000\n",
    "mesh = fe.UnitIntervalMesh(Mesh_size)\n",
    "P1 = fe.FiniteElement('P', mesh.ufl_cell(), 1)\n",
    "V = fe.FunctionSpace(mesh, P1)\n",
    "T = fe.Function(V)\n",
    "h = fe.Function(V)\n",
    "T=Temperaturewithenthalpy2(30)\n",
    "hot_wall_temperature = 1.\n",
    "T_h = fe.Constant(hot_wall_temperature)\n",
    "cold_wall_temperature = -0.01\n",
    "T_c = fe.Constant(cold_wall_temperature)\n",
    "initial_melt_thickness = 10./float(Mesh_size)\n",
    "T_n = fe.interpolate(\n",
    "    fe.Expression(\n",
    "        \"(T_h - T_c)*(x[0] < x_m0) + T_c\",\n",
    "        T_h = hot_wall_temperature, \n",
    "        T_c = cold_wall_temperature,\n",
    "        x_m0 = initial_melt_thickness,\n",
    "        element = P1),\n",
    "    V)\n",
    "def phi(T):\n",
    "    T_r=0\n",
    "    r=0.025\n",
    "    return 0.5*(1. + fe.tanh((T_r - T)/r))\n",
    "def diffofenthalpywithtime(N):\n",
    "    dt=fe.Constant(1.e-2)\n",
    "    T_t = (T - T_n)/dt\n",
    "    phi_t = (phi(T) - phi(T_n))/dt\n",
    "    c=1\n",
    "    L=10\n",
    "    return (c*T_t-(L*phi_t))\n",
    "mesh = fe.UnitIntervalMesh(Mesh_size)\n",
    "P1 = fe.FiniteElement('P', mesh.ufl_cell(), 1)\n",
    "V = fe.FunctionSpace(mesh, P1)\n",
    "v = fe.TestFunction(V)\n",
    "phi,h=semiphasefieldwithenthalpy(30)\n",
    "ste=fe.Constant(0.045)\n",
    "prandl_number=fe.Constant(1)\n",
    "diffh=diffofenthalpywithtime(30)\n",
    "rho=1\n",
    "K=1\n",
    "F=fe.dot(fe.grad(v),(fe.grad(h)-L*fe.grad(phi)))-(rho/K)*(v*diffh)\n",
    "JF = fenics.derivative(F, h, fenics.TrialFunction(V))\n"
   ]
  },
  {
   "cell_type": "code",
   "execution_count": null,
   "metadata": {},
   "outputs": [],
   "source": []
  },
  {
   "cell_type": "code",
   "execution_count": null,
   "metadata": {},
   "outputs": [],
   "source": []
  }
 ],
 "metadata": {
  "kernelspec": {
   "display_name": "Python 2",
   "language": "python",
   "name": "python2"
  },
  "language_info": {
   "codemirror_mode": {
    "name": "ipython",
    "version": 2
   },
   "file_extension": ".py",
   "mimetype": "text/x-python",
   "name": "python",
   "nbconvert_exporter": "python",
   "pygments_lexer": "ipython2",
   "version": "2.7.12"
  }
 },
 "nbformat": 4,
 "nbformat_minor": 2
}
