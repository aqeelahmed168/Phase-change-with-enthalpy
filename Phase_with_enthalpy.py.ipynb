{
 "cells": [
  {
   "cell_type": "code",
   "execution_count": 1,
   "metadata": {},
   "outputs": [],
   "source": [
    "import fenics"
   ]
  },
  {
   "cell_type": "code",
   "execution_count": 2,
   "metadata": {},
   "outputs": [],
   "source": [
    "import matplotlib.pyplot as plt"
   ]
  },
  {
   "cell_type": "code",
   "execution_count": 3,
   "metadata": {},
   "outputs": [],
   "source": [
    "import numpy as np"
   ]
  },
  {
   "cell_type": "code",
   "execution_count": 5,
   "metadata": {},
   "outputs": [],
   "source": [
    "import fenics as fs"
   ]
  },
  {
   "cell_type": "code",
   "execution_count": 48,
   "metadata": {},
   "outputs": [],
   "source": [
    "def semiphasefieldwithenthalpy(N):\n",
    "    phi=[]\n",
    "    h=np.empty(N)\n",
    "    phi=np.linspace(0,1,30)\n",
    "    phi[0:N]=0\n",
    "    h[0:N/3]=np.linspace(-10,0,N/3)\n",
    "    phi[(2*N)/3:N]=1\n",
    "    h[(2*N)/3:N]=np.linspace(6,16,N/3)\n",
    "    phi[N/3:(2*N)/3]=np.linspace(0.01,0.99,N/3)\n",
    "    h[N/3:(2*N)/3]=np.linspace(0,6,N/3)\n",
    "    plt.plot(h,phi)    \n",
    "    plt.ylim([0,2])\n",
    "    plt.show()    \n",
    "    return [phi,h]"
   ]
  },
  {
   "cell_type": "code",
   "execution_count": 49,
   "metadata": {},
   "outputs": [
    {
     "data": {
      "image/png": "[encoded data removed]",
      "text/plain": [
       "<matplotlib.figure.Figure at 0x7f5a1bd683d0>"
      ]
     },
     "metadata": {},
     "output_type": "display_data"
    },
    {
     "data": {
      "text/plain": [
       "[array([ 0.        ,  0.        ,  0.        ,  0.        ,  0.        ,\n",
       "         0.        ,  0.        ,  0.        ,  0.        ,  0.        ,\n",
       "         0.01      ,  0.11888889,  0.22777778,  0.33666667,  0.44555556,\n",
       "         0.55444444,  0.66333333,  0.77222222,  0.88111111,  0.99      ,\n",
       "         1.        ,  1.        ,  1.        ,  1.        ,  1.        ,\n",
       "         1.        ,  1.        ,  1.        ,  1.        ,  1.        ]),\n",
       " array([-10.        ,  -8.88888889,  -7.77777778,  -6.66666667,\n",
       "         -5.55555556,  -4.44444444,  -3.33333333,  -2.22222222,\n",
       "         -1.11111111,   0.        ,   0.        ,   0.66666667,\n",
       "          1.33333333,   2.        ,   2.66666667,   3.33333333,\n",
       "          4.        ,   4.66666667,   5.33333333,   6.        ,\n",
       "          6.        ,   7.11111111,   8.22222222,   9.33333333,\n",
       "         10.44444444,  11.55555556,  12.66666667,  13.77777778,\n",
       "         14.88888889,  16.        ])]"
      ]
     },
     "execution_count": 49,
     "metadata": {},
     "output_type": "execute_result"
    }
   ],
   "source": [
    "semiphasefieldwithenthalpy(30)"
   ]
  },
  {
   "cell_type": "code",
   "execution_count": null,
   "metadata": {},
   "outputs": [],
   "source": []
  }
 ],
 "metadata": {
  "kernelspec": {
   "display_name": "Python 2",
   "language": "python",
   "name": "python2"
  },
  "language_info": {
   "codemirror_mode": {
    "name": "ipython",
    "version": 2
   },
   "file_extension": ".py",
   "mimetype": "text/x-python",
   "name": "python",
   "nbconvert_exporter": "python",
   "pygments_lexer": "ipython2",
   "version": "2.7.12"
  }
 },
 "nbformat": 4,
 "nbformat_minor": 2
}
